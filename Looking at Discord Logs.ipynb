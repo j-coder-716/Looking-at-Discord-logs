{
 "cells": [
  {
   "cell_type": "code",
   "execution_count": 1,
   "metadata": {},
   "outputs": [],
   "source": [
    "import requests\n",
    "import json\n",
    "import pandas as pd"
   ]
  },
  {
   "cell_type": "code",
   "execution_count": 2,
   "metadata": {},
   "outputs": [],
   "source": [
    "with open(\"discord_logs.json\") as f:  # Open the json file as f\n",
    "    logs = json.load(f)               # set the file to a variable"
   ]
  },
  {
   "cell_type": "code",
   "execution_count": 3,
   "metadata": {},
   "outputs": [],
   "source": [
    "# Removing the un-needed strings\n",
    "def the_event(string):                                     \n",
    "    bad_chars = [';', ':', '!', \"*\", \"/\",'`','.','@']              # Initialized the special characters to a list\n",
    "    test_string = ''.join(i for i in string if not i in bad_chars) # Remove the speacial characters from the list\n",
    "    words = test_string.split()                           # Split each word in the list\n",
    "    return words[1]                                       # Take the second word in the string"
   ]
  },
  {
   "cell_type": "code",
   "execution_count": 4,
   "metadata": {},
   "outputs": [],
   "source": [
    "# Gives the Name, Event, Time at the position\n",
    "def get_name(list_num):\n",
    "    log = {}                                              # Initialized dictionary\n",
    "    log[\"name\"] = list_num[\"embeds\"][0][\"author\"][\"name\"] # Get the name description from the Data\n",
    "    log[\"event\"] = list_num[\"embeds\"][0][\"description\"]   # Get the event description from the Data\n",
    "    log[\"time\"] = list_num[\"embeds\"][0][\"timestamp\"]      # Get the time description from the Data\n",
    "    return log                                            # Return log"
   ]
  },
  {
   "cell_type": "code",
   "execution_count": 5,
   "metadata": {},
   "outputs": [],
   "source": [
    "def list_diction(my_log):\n",
    "        # The unwanted string in the dictionary-list\n",
    "    unwanted_1= \"**@Unknown joined the server.**\"\n",
    "    unwanted_2 = \":writing_hand: **@Unknown has been updated.**\"\n",
    "    unwanted_3 = '**@Unknown left.**'\n",
    "    updated = []                          # Initialized empty list\n",
    "    \n",
    "    event_list = []                       # Initialized empty list\n",
    "    for i in my_log[\"messages\"]:          # Stepping through the data\n",
    "        event_list.append(get_name(i))    # Add the name, event, and time to the event_list\n",
    "\n",
    "    for j in event_list:                       # Stepping through the event_list\n",
    "        if (j[\"event\"] != unwanted_1):         # If the string does not match the unwanted_1 string\n",
    "            if (j[\"event\"] != unwanted_2):     # If the string does not match the unwanted_2 string\n",
    "                if (j[\"event\"] != unwanted_3): # If the string does not match the unwanted_3 string\n",
    "                    updated.append(j)          # Add the data to the list, updated\n",
    "    return updated                             # Return the list updated"
   ]
  },
  {
   "cell_type": "code",
   "execution_count": 6,
   "metadata": {},
   "outputs": [],
   "source": [
    "def get_event(the_list):                       # Get the events \"joined\" and \"left\"\n",
    "    left = \"left\"                              # Initialized the variable left to a string\n",
    "    joined = \"joined\"                          # Initialized the variable joined to a string\n",
    "    new_list = []                              # Initialized an empty list\n",
    "    for ii in the_list:                        # Stepping through the the_list\n",
    "        ii[\"event\"] = the_event(ii[\"event\"])   # Remove the unwanted symbols and characters from the string\n",
    "    \n",
    "    for i in the_list:                         # Stepping through the_list\n",
    "        if (i['event'] == left) or (i[\"event\"] == joined): # If the string is equal to the variables left and joined\n",
    "            new_list.append(i)                             # Add it to the list new_list\n",
    "    return new_list                                        # Return the new_list"
   ]
  },
  {
   "cell_type": "markdown",
   "metadata": {},
   "source": [
    "# Part 1"
   ]
  },
  {
   "cell_type": "code",
   "execution_count": 7,
   "metadata": {
    "scrolled": false
   },
   "outputs": [
    {
     "data": {
      "text/html": [
       "<div>\n",
       "<style scoped>\n",
       "    .dataframe tbody tr th:only-of-type {\n",
       "        vertical-align: middle;\n",
       "    }\n",
       "\n",
       "    .dataframe tbody tr th {\n",
       "        vertical-align: top;\n",
       "    }\n",
       "\n",
       "    .dataframe thead th {\n",
       "        text-align: right;\n",
       "    }\n",
       "</style>\n",
       "<table border=\"1\" class=\"dataframe\">\n",
       "  <thead>\n",
       "    <tr style=\"text-align: right;\">\n",
       "      <th></th>\n",
       "      <th>name</th>\n",
       "      <th>event</th>\n",
       "      <th>time</th>\n",
       "    </tr>\n",
       "  </thead>\n",
       "  <tbody>\n",
       "    <tr>\n",
       "      <th>0</th>\n",
       "      <td>Jamya</td>\n",
       "      <td>joined</td>\n",
       "      <td>2021-01-25 14:31:13.449000-05:00</td>\n",
       "    </tr>\n",
       "    <tr>\n",
       "      <th>1</th>\n",
       "      <td>Jamya</td>\n",
       "      <td>left</td>\n",
       "      <td>2021-01-25 14:31:17.203000-05:00</td>\n",
       "    </tr>\n",
       "    <tr>\n",
       "      <th>2</th>\n",
       "      <td>Jamya</td>\n",
       "      <td>joined</td>\n",
       "      <td>2021-01-25 14:34:37.699000-05:00</td>\n",
       "    </tr>\n",
       "    <tr>\n",
       "      <th>3</th>\n",
       "      <td>Jamya</td>\n",
       "      <td>left</td>\n",
       "      <td>2021-01-25 14:34:41.426000-05:00</td>\n",
       "    </tr>\n",
       "    <tr>\n",
       "      <th>4</th>\n",
       "      <td>Jamya</td>\n",
       "      <td>joined</td>\n",
       "      <td>2021-01-25 15:56:06.055000-05:00</td>\n",
       "    </tr>\n",
       "    <tr>\n",
       "      <th>...</th>\n",
       "      <td>...</td>\n",
       "      <td>...</td>\n",
       "      <td>...</td>\n",
       "    </tr>\n",
       "    <tr>\n",
       "      <th>627</th>\n",
       "      <td>Jasmin</td>\n",
       "      <td>left</td>\n",
       "      <td>2021-03-27 12:43:51.750000-04:00</td>\n",
       "    </tr>\n",
       "    <tr>\n",
       "      <th>628</th>\n",
       "      <td>Ariana</td>\n",
       "      <td>joined</td>\n",
       "      <td>2021-03-28 15:02:10.440000-04:00</td>\n",
       "    </tr>\n",
       "    <tr>\n",
       "      <th>629</th>\n",
       "      <td>Kathy</td>\n",
       "      <td>joined</td>\n",
       "      <td>2021-03-28 15:02:10.899000-04:00</td>\n",
       "    </tr>\n",
       "    <tr>\n",
       "      <th>630</th>\n",
       "      <td>Kathy</td>\n",
       "      <td>left</td>\n",
       "      <td>2021-03-28 15:20:37.529000-04:00</td>\n",
       "    </tr>\n",
       "    <tr>\n",
       "      <th>631</th>\n",
       "      <td>Ariana</td>\n",
       "      <td>left</td>\n",
       "      <td>2021-03-28 15:20:40.083000-04:00</td>\n",
       "    </tr>\n",
       "  </tbody>\n",
       "</table>\n",
       "<p>632 rows × 3 columns</p>\n",
       "</div>"
      ],
      "text/plain": [
       "       name   event                             time\n",
       "0     Jamya  joined 2021-01-25 14:31:13.449000-05:00\n",
       "1     Jamya    left 2021-01-25 14:31:17.203000-05:00\n",
       "2     Jamya  joined 2021-01-25 14:34:37.699000-05:00\n",
       "3     Jamya    left 2021-01-25 14:34:41.426000-05:00\n",
       "4     Jamya  joined 2021-01-25 15:56:06.055000-05:00\n",
       "..      ...     ...                              ...\n",
       "627  Jasmin    left 2021-03-27 12:43:51.750000-04:00\n",
       "628  Ariana  joined 2021-03-28 15:02:10.440000-04:00\n",
       "629   Kathy  joined 2021-03-28 15:02:10.899000-04:00\n",
       "630   Kathy    left 2021-03-28 15:20:37.529000-04:00\n",
       "631  Ariana    left 2021-03-28 15:20:40.083000-04:00\n",
       "\n",
       "[632 rows x 3 columns]"
      ]
     },
     "execution_count": 7,
     "metadata": {},
     "output_type": "execute_result"
    }
   ],
   "source": [
    "data_frame = get_event(list_diction(logs))             # Assign the variable to the Data\n",
    "df = pd.DataFrame(data_frame)                          # Create a Dataframe\n",
    "\n",
    "df[\"time\"] = pd.to_datetime(df[\"time\"]).dt.tz_convert(\"America/New_York\")# Convert the time in the DataFrame\n",
    "df"
   ]
  },
  {
   "cell_type": "code",
   "execution_count": 8,
   "metadata": {},
   "outputs": [],
   "source": [
    "# The unique names\n",
    "def unique_names(the_list):\n",
    "    list_names = []                      # Initialize empty list\n",
    "\n",
    "    for i in the_list:                   # Stepping through the_list\n",
    "        if i[\"name\"] not in list_names:  # If name is not in list_names\n",
    "            list_names.append(i[\"name\"]) # Add it to list_names\n",
    "    return list_names                    # Return list_names"
   ]
  },
  {
   "cell_type": "code",
   "execution_count": 9,
   "metadata": {},
   "outputs": [],
   "source": [
    "def get_log(NAME,log_list):\n",
    "    diction = {}                        # Initialize empty dictionary\n",
    "    my_joined_list = []                 # Initialize empty list\n",
    "    my_left_list = []                   # Initialize empty list\n",
    "    for the in log_list:                # Stepping through the Data\n",
    "        if the[\"name\"]== NAME and the[\"event\"]==\"joined\": # If the data is equal to the name and \"joined\"\n",
    "            my_joined_list.append(the[\"time\"])            # Add it to the list called, my_joined_list\n",
    "        if the[\"name\"]== NAME and the[\"event\"]==\"left\":   # If the data is equal to the name and \"left\"\n",
    "            my_left_list.append(the[\"time\"])              # Add it to the list called, my_left_list\n",
    "      \n",
    "        \n",
    "    \n",
    "    my_new_df = pd.DataFrame({  # Created a Data Frame\n",
    "    \"name\": NAME,               # Assign \"name\" to the names in the list\n",
    "    \"Start\":my_joined_list,     # Assign \"Start\" to the my_joined_list\n",
    "    \"End\": my_left_list         # Assign \"End\" to the my_left_list\n",
    "    })\n",
    "\n",
    "    # Converting the time in the list and getting the difference between Start and End \n",
    "    my_new_df[\"Start\"] = pd.to_datetime(my_new_df[\"Start\"]).dt.tz_convert(\"America/New_York\")\n",
    "    my_new_df[\"End\"] = pd.to_datetime(my_new_df[\"End\"]).dt.tz_convert(\"America/New_York\")\n",
    "    my_new_df[\"duration\"] = my_new_df[\"End\"] - my_new_df[\"Start\"]\n",
    "\n",
    "    diction[\"name\"] = NAME                                   # Assign the \"name\" to the person name\n",
    "    diction[\"time_in_channel\"] = my_new_df[\"duration\"].sum() # Assign \"time_in_channel\" to the \n",
    "                                                             #                total time on discord\n",
    "    return diction    # Return diction\n"
   ]
  },
  {
   "cell_type": "code",
   "execution_count": 10,
   "metadata": {},
   "outputs": [],
   "source": [
    "def data_log_list(names,log_list):      # \n",
    "    log = []                            # Initialized an empty list\n",
    "    for i in names:                     # Stepping through the names\n",
    "        log.append(get_log(i,log_list)) # Add the name and duration of a person to the list \n",
    "    return log                          # Return the log"
   ]
  },
  {
   "cell_type": "code",
   "execution_count": 11,
   "metadata": {},
   "outputs": [],
   "source": [
    "def time_spent_on_discord(my_log):         # \n",
    "    list_of_people = list_diction(my_log)  # Getting the list of people\n",
    "    updated_event_list = get_event(list_of_people) # Getting the updated events of people\n",
    "    unique_ind = unique_names(updated_event_list)  # Getting the unique names from the list\n",
    "    data = data_log_list(unique_ind,updated_event_list)  # Getting the list of people\n",
    "                                           #        and the time spent on Discord\n",
    "    \n",
    "    df = pd.DataFrame(data)                  # Creating the Data frame\n",
    "    dff = df.sort_values(by=\"time_in_channel\", ascending=True) # Sorting the list by \"time_in_channel\"\n",
    "   \n",
    "    return dff                             # Return dff"
   ]
  },
  {
   "cell_type": "markdown",
   "metadata": {},
   "source": [
    "# Part 2"
   ]
  },
  {
   "cell_type": "code",
   "execution_count": 12,
   "metadata": {},
   "outputs": [
    {
     "data": {
      "text/html": [
       "<div>\n",
       "<style scoped>\n",
       "    .dataframe tbody tr th:only-of-type {\n",
       "        vertical-align: middle;\n",
       "    }\n",
       "\n",
       "    .dataframe tbody tr th {\n",
       "        vertical-align: top;\n",
       "    }\n",
       "\n",
       "    .dataframe thead th {\n",
       "        text-align: right;\n",
       "    }\n",
       "</style>\n",
       "<table border=\"1\" class=\"dataframe\">\n",
       "  <thead>\n",
       "    <tr style=\"text-align: right;\">\n",
       "      <th></th>\n",
       "      <th>name</th>\n",
       "      <th>time_in_channel</th>\n",
       "    </tr>\n",
       "  </thead>\n",
       "  <tbody>\n",
       "    <tr>\n",
       "      <th>25</th>\n",
       "      <td>Ariana</td>\n",
       "      <td>0 days 17:37:12.113000</td>\n",
       "    </tr>\n",
       "    <tr>\n",
       "      <th>26</th>\n",
       "      <td>Jamya</td>\n",
       "      <td>1 days 01:12:34.347000</td>\n",
       "    </tr>\n",
       "    <tr>\n",
       "      <th>27</th>\n",
       "      <td>Kathy</td>\n",
       "      <td>1 days 03:15:31.871000</td>\n",
       "    </tr>\n",
       "    <tr>\n",
       "      <th>28</th>\n",
       "      <td>Edward</td>\n",
       "      <td>1 days 19:39:40.461000</td>\n",
       "    </tr>\n",
       "    <tr>\n",
       "      <th>29</th>\n",
       "      <td>Abagail</td>\n",
       "      <td>3 days 22:22:09.153000</td>\n",
       "    </tr>\n",
       "  </tbody>\n",
       "</table>\n",
       "</div>"
      ],
      "text/plain": [
       "       name        time_in_channel\n",
       "25   Ariana 0 days 17:37:12.113000\n",
       "26    Jamya 1 days 01:12:34.347000\n",
       "27    Kathy 1 days 03:15:31.871000\n",
       "28   Edward 1 days 19:39:40.461000\n",
       "29  Abagail 3 days 22:22:09.153000"
      ]
     },
     "execution_count": 12,
     "metadata": {},
     "output_type": "execute_result"
    }
   ],
   "source": [
    "dataframe = time_spent_on_discord(logs).reset_index(drop = True)  \n",
    "dataframe.tail(5)                                                 "
   ]
  },
  {
   "cell_type": "code",
   "execution_count": null,
   "metadata": {},
   "outputs": [],
   "source": []
  }
 ],
 "metadata": {
  "kernelspec": {
   "display_name": "Python 3",
   "language": "python",
   "name": "python3"
  },
  "language_info": {
   "codemirror_mode": {
    "name": "ipython",
    "version": 3
   },
   "file_extension": ".py",
   "mimetype": "text/x-python",
   "name": "python",
   "nbconvert_exporter": "python",
   "pygments_lexer": "ipython3",
   "version": "3.8.3"
  }
 },
 "nbformat": 4,
 "nbformat_minor": 4
}
